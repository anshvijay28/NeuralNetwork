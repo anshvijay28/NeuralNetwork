{
 "cells": [
  {
   "cell_type": "markdown",
   "metadata": {},
   "source": [
    "### Load Datasets"
   ]
  },
  {
   "cell_type": "code",
   "execution_count": 46,
   "metadata": {},
   "outputs": [
    {
     "name": "stdout",
     "output_type": "stream",
     "text": [
      "The autoreload extension is already loaded. To reload it, use:\n",
      "  %reload_ext autoreload\n"
     ]
    }
   ],
   "source": [
    "%load_ext autoreload\n",
    "%autoreload 2\n",
    "\n",
    "import numpy as np\n",
    "from NN import NN\n",
    "from util import compute_clean_data\n",
    "import matplotlib.pyplot as plt \n",
    "\n",
    "# init datasets\n",
    "full_train_X, full_train_Y = compute_clean_data(\"data/mnist_train.csv\")\n",
    "full_test_X, full_test_Y = compute_clean_data(\"data/mnist_test.csv\")\n",
    "\n",
    "mini_train_X, mini_train_Y = compute_clean_data(\"data/mnist_train_100.csv\")\n",
    "mini_test_X, mini_test_Y = compute_clean_data(\"data/mnist_test_10.csv\")\n",
    "\n",
    "half_train_X, half_train_Y = full_train_X[30000:], full_train_Y[30000:]\n",
    "half_test_X, half_test_Y = full_test_X[5000:], full_test_Y[5000:]\n"
   ]
  },
  {
   "cell_type": "markdown",
   "metadata": {},
   "source": [
    "### Define Train Function using Stochastic Gradient Descent"
   ]
  },
  {
   "cell_type": "code",
   "execution_count": 100,
   "metadata": {},
   "outputs": [],
   "source": [
    "from util import randomize_order\n",
    "\n",
    "def train(nn, epochs, lr, train_X, train_Y, valid_X, valid_Y, show_loss=True):\n",
    "    # Set datasets\n",
    "    nn.setAlpha(lr)\n",
    "    nn.setTrainData(train_X, train_Y)\n",
    "    nn.setTestData(valid_X, valid_Y)\n",
    "\n",
    "    # Stochastic Gradient Descent \n",
    "    losses = []\n",
    "\n",
    "    for _ in range(epochs):    \n",
    "        # Randomize order of training data for this epoch\n",
    "        X, Y  = randomize_order(nn.train_X, nn.train_Y)\n",
    "        nn.setTrainData(train_X=X, train_Y=Y)\n",
    "\n",
    "        # Train \n",
    "        avg_loss = nn.train(show_loss)\n",
    "        losses.append(avg_loss)\n",
    "    return losses\n",
    "\n",
    "def plot_loss_over_epoch(losses, epochs):\n",
    "    plt.title('Loss over epoch')\n",
    "    plt.xlabel('Epoch')\n",
    "    plt.ylabel('Loss')\n",
    "    plt.plot(list(range(1, epochs + 1)), losses)\n",
    "    plt.show()"
   ]
  },
  {
   "cell_type": "markdown",
   "metadata": {},
   "source": [
    "### Find Optimal Learning Rate using K-Fold Cross Validation"
   ]
  },
  {
   "cell_type": "code",
   "execution_count": 102,
   "metadata": {},
   "outputs": [
    {
     "name": "stdout",
     "output_type": "stream",
     "text": [
      "Accuracy = 0.9108\n",
      "Accuracy = 0.9351\n",
      "Accuracy = 0.9487\n",
      "Accuracy = 0.9408\n",
      "Accuracy = 0.9469\n",
      "Accuracy = 0.8374\n"
     ]
    }
   ],
   "source": [
    "# Initialize parameters \n",
    "test_X, test_Y = full_test_X, full_test_Y\n",
    "X, Y = full_train_X, full_train_Y\n",
    "batch_size = 10000\n",
    "N = X.shape[0]\n",
    "epochs = 5\n",
    "show_loss = False \n",
    "\n",
    "# Initialize Neural Network \n",
    "nn = NN(\n",
    "    numNeurons=[784, 200, 100, 10],\n",
    "    alpha=0.001,\n",
    "    train_X=full_train_X,\n",
    "    train_Y=full_train_Y,\n",
    ")\n",
    "\n",
    "alphas = [0.001, 0.005, 0.0075, 0.008, 0.01, 0.025]\n",
    "losses = []\n",
    "accs = []\n",
    "for i, alpha in enumerate(alphas):\n",
    "    nn.setAlpha(alpha)\n",
    "\n",
    "    # Validation data\n",
    "    valid_X = X.take(range(i, i + batch_size), axis=0, mode='wrap')\n",
    "    valid_Y = Y.take(range(i, i + batch_size), axis=0, mode='wrap')\n",
    "\n",
    "    # Train data \n",
    "    train_X = X.take(range(i + batch_size, i + N), axis=0, mode='wrap')\n",
    "    train_Y = Y.take(range(i + batch_size, i + N), axis=0, mode='wrap')\n",
    "\n",
    "    # Train network using current learning rate\n",
    "    cur_losses = train(nn, epochs, alpha, train_X, train_Y, valid_X, valid_Y, show_loss)    \n",
    "    avg_loss = sum(cur_losses) / epochs\n",
    "    losses.append(avg_loss)\n",
    "\n",
    "    # Test Network using newly learned weights \n",
    "    acc = nn.test()\n",
    "    accs.append(acc)\n",
    "    \n",
    "    # Randomize weights between folds \n",
    "    nn.randomizeWeights()"
   ]
  },
  {
   "cell_type": "markdown",
   "metadata": {},
   "source": [
    "### Visualize sata  "
   ]
  },
  {
   "cell_type": "code",
   "execution_count": 103,
   "metadata": {},
   "outputs": [
    {
     "name": "stdout",
     "output_type": "stream",
     "text": [
      "Optimal learning rate is 0.0075\n",
      "An lr of 0.001 yielded 4.6191554790083496 loss and 91.08000000000001% accuracy.\n",
      "An lr of 0.005 yielded 4.721635150320417 loss and 93.51% accuracy.\n",
      "An lr of 0.0075 yielded 4.858628357828679 loss and 94.87% accuracy.\n",
      "An lr of 0.008 yielded 4.896072492613568 loss and 94.08% accuracy.\n",
      "An lr of 0.01 yielded 4.850562354860462 loss and 94.69% accuracy.\n",
      "An lr of 0.025 yielded 5.334482274639939 loss and 83.74000000000001% accuracy.\n"
     ]
    },
    {
     "data": {
      "image/png": "[encoded data removed]",
      "text/plain": [
       "<Figure size 640x480 with 1 Axes>"
      ]
     },
     "metadata": {},
     "output_type": "display_data"
    }
   ],
   "source": [
    "# Determine best learning rate \n",
    "opt_lr = alphas[accs.index(max(accs))]\n",
    "print(f\"Optimal learning rate is {opt_lr}\")\n",
    "\n",
    "for i in range(len(alphas)):\n",
    "    print(f\"An lr of {alphas[i]} yielded {losses[i]} loss and {accs[i] * 100}% accuracy.\")\n",
    "\n",
    "# Visualize loss over learning rate\n",
    "plt.title('Loss over different learning rates')\n",
    "plt.xlabel('Learning rate')\n",
    "plt.ylabel('Loss')\n",
    "plt.plot(alphas, losses)\n",
    "plt.show()"
   ]
  },
  {
   "cell_type": "markdown",
   "metadata": {},
   "source": [
    "### Train and test todel using optimal learning rate"
   ]
  },
  {
   "cell_type": "code",
   "execution_count": 105,
   "metadata": {},
   "outputs": [
    {
     "name": "stdout",
     "output_type": "stream",
     "text": [
      "Loss on iteration 10000 = 4.107067194401984\n",
      "Loss on iteration 20000 = 5.105434880503086\n",
      "Loss on iteration 30000 = 4.707999905468681\n",
      "Loss on iteration 40000 = 5.931872864102646\n",
      "Loss on iteration 50000 = 5.470347614391453\n",
      "Loss on iteration 60000 = 5.532090879699101\n",
      "Loss on iteration 10000 = 4.386179986539403\n",
      "Loss on iteration 20000 = 3.445323107433115\n",
      "Loss on iteration 30000 = 4.018358502725334\n",
      "Loss on iteration 40000 = 4.052620385122032\n",
      "Loss on iteration 50000 = 5.538295495198417\n",
      "Loss on iteration 60000 = 3.167904352276196\n",
      "Loss on iteration 10000 = 5.580977206355013\n",
      "Loss on iteration 20000 = 5.458013747086074\n",
      "Loss on iteration 30000 = 5.255068465095304\n",
      "Loss on iteration 40000 = 4.557260342003944\n",
      "Loss on iteration 50000 = 4.554163442169192\n",
      "Loss on iteration 60000 = 5.982542247570149\n",
      "Loss on iteration 10000 = 6.881971467501953\n",
      "Loss on iteration 20000 = 3.9254148127631385\n",
      "Loss on iteration 30000 = 6.988027156658808\n",
      "Loss on iteration 40000 = 5.843562838510733\n",
      "Loss on iteration 50000 = 3.185781365388465\n",
      "Loss on iteration 60000 = 6.975415002986537\n",
      "Loss on iteration 10000 = 3.2086105378358187\n",
      "Loss on iteration 20000 = 3.5171618258471824\n",
      "Loss on iteration 30000 = 4.242327595570207\n",
      "Loss on iteration 40000 = 5.307982640728907\n",
      "Loss on iteration 50000 = 5.392360775725961\n",
      "Loss on iteration 60000 = 6.225559138709357\n",
      "Loss on iteration 10000 = 6.675691946087257\n",
      "Loss on iteration 20000 = 4.81831616147128\n",
      "Loss on iteration 30000 = 5.610838218075824\n",
      "Loss on iteration 40000 = 3.0704780330810357\n",
      "Loss on iteration 50000 = 3.8390905948594183\n",
      "Loss on iteration 60000 = 2.773621966600137\n",
      "Loss on iteration 10000 = 4.116195962736208\n",
      "Loss on iteration 20000 = 3.1463250582921996\n",
      "Loss on iteration 30000 = 5.169841809218064\n",
      "Loss on iteration 40000 = 4.285787683360662\n",
      "Loss on iteration 50000 = 5.478431047950096\n",
      "Loss on iteration 60000 = 2.8457465950549117\n",
      "Loss on iteration 10000 = 3.9529257821102366\n",
      "Loss on iteration 20000 = 5.338027773814281\n",
      "Loss on iteration 30000 = 4.7642728938892445\n",
      "Loss on iteration 40000 = 3.930452338243011\n",
      "Loss on iteration 50000 = 4.166768136912881\n",
      "Loss on iteration 60000 = 4.066527899266147\n",
      "Loss on iteration 10000 = 3.183637830526413\n",
      "Loss on iteration 20000 = 2.6503797394775948\n",
      "Loss on iteration 30000 = 4.692840804684348\n",
      "Loss on iteration 40000 = 4.57507276795936\n",
      "Loss on iteration 50000 = 3.8086806316737687\n",
      "Loss on iteration 60000 = 3.0539437412327564\n",
      "Loss on iteration 10000 = 4.802740758144552\n",
      "Loss on iteration 20000 = 4.628361676358526\n",
      "Loss on iteration 30000 = 4.510290739416796\n",
      "Loss on iteration 40000 = 4.4409263109177335\n",
      "Loss on iteration 50000 = 5.497027318233825\n",
      "Loss on iteration 60000 = 3.15653182239528\n",
      "Loss on iteration 10000 = 4.3795417286883795\n",
      "Loss on iteration 20000 = 4.878331187693728\n",
      "Loss on iteration 30000 = 3.2483618065853506\n",
      "Loss on iteration 40000 = 4.7753865358750245\n",
      "Loss on iteration 50000 = 4.899794929565265\n",
      "Loss on iteration 60000 = 4.219379545283359\n",
      "Loss on iteration 10000 = 2.7208516852237534\n",
      "Loss on iteration 20000 = 4.904306792143545\n",
      "Loss on iteration 30000 = 4.888530078582723\n",
      "Loss on iteration 40000 = 3.4723222888729617\n",
      "Loss on iteration 50000 = 3.0761708597087942\n",
      "Loss on iteration 60000 = 4.075595449887073\n",
      "Loss on iteration 10000 = 3.8103783662982806\n",
      "Loss on iteration 20000 = 3.2908589774752524\n",
      "Loss on iteration 30000 = 4.884769030119038\n",
      "Loss on iteration 40000 = 6.0265977704910885\n",
      "Loss on iteration 50000 = 6.509379527993261\n",
      "Loss on iteration 60000 = 5.102777538750951\n",
      "Loss on iteration 10000 = 3.5002944649119065\n",
      "Loss on iteration 20000 = 4.171814464690561\n",
      "Loss on iteration 30000 = 3.9344704810745785\n",
      "Loss on iteration 40000 = 3.4007782829372455\n",
      "Loss on iteration 50000 = 4.527269124220737\n",
      "Loss on iteration 60000 = 2.589730494629871\n",
      "Loss on iteration 10000 = 3.0617287153915314\n",
      "Loss on iteration 20000 = 2.823795461530348\n",
      "Loss on iteration 30000 = 3.8780795334081652\n",
      "Loss on iteration 40000 = 3.7932728302183536\n",
      "Loss on iteration 50000 = 3.8551519188498524\n",
      "Loss on iteration 60000 = 4.5340528213188565\n"
     ]
    },
    {
     "data": {
      "image/png": "[encoded data removed]",
      "text/plain": [
       "<Figure size 640x480 with 1 Axes>"
      ]
     },
     "metadata": {},
     "output_type": "display_data"
    },
    {
     "name": "stdout",
     "output_type": "stream",
     "text": [
      "Accuracy = 0.9605\n"
     ]
    }
   ],
   "source": [
    "# Initialize Neural Network \n",
    "nn = NN(\n",
    "    numNeurons=[784, 200, 100, 10],\n",
    "    alpha=opt_lr,\n",
    "    train_X=full_train_X,\n",
    "    train_Y=full_train_Y,\n",
    "    test_X=full_test_X,\n",
    "    test_Y=full_test_Y\n",
    ")\n",
    "epochs = 15\n",
    "\n",
    "# Train network using optimal learning rate \n",
    "losses = train(\n",
    "        nn=nn, \n",
    "        epochs=epochs, \n",
    "        lr=opt_lr, \n",
    "        train_X=full_train_X, \n",
    "        train_Y=full_train_Y, \n",
    "        valid_X=full_test_X, \n",
    "        valid_Y=full_test_Y\n",
    "    )\n",
    "\n",
    "# Visualize loss during training\n",
    "plot_loss_over_epoch(losses, epochs)\n",
    "\n",
    "# Determine accuracy of the network \n",
    "acc = nn.test()\n"
   ]
  }
 ],
 "metadata": {
  "kernelspec": {
   "display_name": "Python 3",
   "language": "python",
   "name": "python3"
  },
  "language_info": {
   "codemirror_mode": {
    "name": "ipython",
    "version": 3
   },
   "file_extension": ".py",
   "mimetype": "text/x-python",
   "name": "python",
   "nbconvert_exporter": "python",
   "pygments_lexer": "ipython3",
   "version": "3.9.0"
  }
 },
 "nbformat": 4,
 "nbformat_minor": 2
}
