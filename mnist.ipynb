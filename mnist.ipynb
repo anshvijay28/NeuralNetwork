{
 "cells": [
  {
   "cell_type": "markdown",
   "metadata": {},
   "source": [
    "### Load Datasets"
   ]
  },
  {
   "cell_type": "code",
   "execution_count": 46,
   "metadata": {},
   "outputs": [
    {
     "name": "stdout",
     "output_type": "stream",
     "text": [
      "The autoreload extension is already loaded. To reload it, use:\n",
      "  %reload_ext autoreload\n"
     ]
    }
   ],
   "source": [
    "%load_ext autoreload\n",
    "%autoreload 2\n",
    "\n",
    "import numpy as np\n",
    "from NN import NN\n",
    "from util import compute_clean_data\n",
    "import matplotlib.pyplot as plt \n",
    "\n",
    "# init datasets\n",
    "full_train_X, full_train_Y = compute_clean_data(\"data/mnist_train.csv\")\n",
    "full_test_X, full_test_Y = compute_clean_data(\"data/mnist_test.csv\")\n",
    "\n",
    "mini_train_X, mini_train_Y = compute_clean_data(\"data/mnist_train_100.csv\")\n",
    "mini_test_X, mini_test_Y = compute_clean_data(\"data/mnist_test_10.csv\")\n",
    "\n",
    "half_train_X, half_train_Y = full_train_X[30000:], full_train_Y[30000:]\n",
    "half_test_X, half_test_Y = full_test_X[5000:], full_test_Y[5000:]\n"
   ]
  },
  {
   "cell_type": "markdown",
   "metadata": {},
   "source": [
    "### Define Train Function using Stochastic Gradient Descent"
   ]
  },
  {
   "cell_type": "code",
   "execution_count": 100,
   "metadata": {},
   "outputs": [],
   "source": [
    "from util import randomize_order\n",
    "\n",
    "def train(nn, epochs, lr, train_X, train_Y, valid_X, valid_Y, show_loss=True):\n",
    "    # Set datasets\n",
    "    nn.setAlpha(lr)\n",
    "    nn.setTrainData(train_X, train_Y)\n",
    "    nn.setTestData(valid_X, valid_Y)\n",
    "\n",
    "    # Stochastic Gradient Descent \n",
    "    losses = []\n",
    "\n",
    "    for _ in range(epochs):    \n",
    "        # Randomize order of training data for this epoch\n",
    "        X, Y  = randomize_order(nn.train_X, nn.train_Y)\n",
    "        nn.setTrainData(train_X=X, train_Y=Y)\n",
    "\n",
    "        # Train \n",
    "        avg_loss = nn.train(show_loss)\n",
    "        losses.append(avg_loss)\n",
    "    return losses\n",
    "\n",
    "def plot_loss_over_epoch(losses, epochs):\n",
    "    plt.title('Loss over epoch')\n",
    "    plt.xlabel('Epoch')\n",
    "    plt.ylabel('Loss')\n",
    "    plt.plot(list(range(1, epochs + 1)), losses)\n",
    "    plt.show()"
   ]
  },
  {
   "cell_type": "markdown",
   "metadata": {},
   "source": [
    "### Find Optimal Learning Rate using K-Fold Cross Validation"
   ]
  },
  {
   "cell_type": "code",
   "execution_count": 102,
   "metadata": {},
   "outputs": [
    {
     "name": "stdout",
     "output_type": "stream",
     "text": [
      "Accuracy = 0.9108\n",
      "Accuracy = 0.9351\n",
      "Accuracy = 0.9487\n",
      "Accuracy = 0.9408\n",
      "Accuracy = 0.9469\n",
      "Accuracy = 0.8374\n"
     ]
    }
   ],
   "source": [
    "# Initialize parameters \n",
    "test_X, test_Y = full_test_X, full_test_Y\n",
    "X, Y = full_train_X, full_train_Y\n",
    "batch_size = 10000\n",
    "N = X.shape[0]\n",
    "epochs = 5\n",
    "show_loss = False \n",
    "\n",
    "# Initialize Neural Network \n",
    "nn = NN(\n",
    "    numNeurons=[784, 200, 100, 10],\n",
    "    alpha=0.001,\n",
    "    train_X=full_train_X,\n",
    "    train_Y=full_train_Y,\n",
    ")\n",
    "\n",
    "alphas = [0.001, 0.005, 0.0075, 0.008, 0.01, 0.025]\n",
    "losses = []\n",
    "accs = []\n",
    "for i, alpha in enumerate(alphas):\n",
    "    nn.setAlpha(alpha)\n",
    "\n",
    "    # Validation data\n",
    "    valid_X = X.take(range(i, i + batch_size), axis=0, mode='wrap')\n",
    "    valid_Y = Y.take(range(i, i + batch_size), axis=0, mode='wrap')\n",
    "\n",
    "    # Train data \n",
    "    train_X = X.take(range(i + batch_size, i + N), axis=0, mode='wrap')\n",
    "    train_Y = Y.take(range(i + batch_size, i + N), axis=0, mode='wrap')\n",
    "\n",
    "    # Train network using current learning rate\n",
    "    cur_losses = train(nn, epochs, alpha, train_X, train_Y, valid_X, valid_Y, show_loss)    \n",
    "    avg_loss = sum(cur_losses) / epochs\n",
    "    losses.append(avg_loss)\n",
    "\n",
    "    # Test Network using newly learned weights \n",
    "    acc = nn.test()\n",
    "    accs.append(acc)\n",
    "    \n",
    "    # Randomize weights between folds \n",
    "    nn.randomizeWeights()"
   ]
  },
  {
   "cell_type": "markdown",
   "metadata": {},
   "source": [
    "### Visualize sata  "
   ]
  },
  {
   "cell_type": "code",
   "execution_count": 103,
   "metadata": {},
   "outputs": [
    {
     "name": "stdout",
     "output_type": "stream",
     "text": [
      "Optimal learning rate is 0.0075\n",
      "An lr of 0.001 yielded 4.6191554790083496 loss and 91.08000000000001% accuracy.\n",
      "An lr of 0.005 yielded 4.721635150320417 loss and 93.51% accuracy.\n",
      "An lr of 0.0075 yielded 4.858628357828679 loss and 94.87% accuracy.\n",
      "An lr of 0.008 yielded 4.896072492613568 loss and 94.08% accuracy.\n",
      "An lr of 0.01 yielded 4.850562354860462 loss and 94.69% accuracy.\n",
      "An lr of 0.025 yielded 5.334482274639939 loss and 83.74000000000001% accuracy.\n"
     ]
    },
    {
     "data": {
      "image/png": "[encoded data removed]",
      "text/plain": [
       "<Figure size 640x480 with 1 Axes>"
      ]
     },
     "metadata": {},
     "output_type": "display_data"
    }
   ],
   "source": [
    "# Determine best learning rate \n",
    "opt_lr = alphas[accs.index(max(accs))]\n",
    "print(f\"Optimal learning rate is {opt_lr}\")\n",
    "\n",
    "for i in range(len(alphas)):\n",
    "    print(f\"An lr of {alphas[i]} yielded {losses[i]} loss and {accs[i] * 100}% accuracy.\")\n",
    "\n",
    "# Visualize loss over learning rate\n",
    "plt.title('Loss over different learning rates')\n",
    "plt.xlabel('Learning rate')\n",
    "plt.ylabel('Loss')\n",
    "plt.plot(alphas, losses)\n",
    "plt.show()"
   ]
  },
  {
   "cell_type": "markdown",
   "metadata": {},
   "source": [
    "### Train and test todel using optimal learning rate"
   ]
  },
  {
   "cell_type": "code",
   "execution_count": 105,
   "metadata": {},
   "outputs": [
    {
     "name": "stdout",
     "output_type": "stream",
     "text": [
      "Loss on iteration 10000 = 4.107067194401984\n",
      "Loss on iteration 20000 = 5.105434880503086\n",
      "Loss on iteration 30000 = 4.707999905468681\n",
      "Loss on iteration 40000 = 5.931872864102646\n",
      "Loss on iteration 50000 = 5.470347614391453\n",
      "Loss on iteration 60000 = 5.532090879699101\n",
      "Loss on iteration 10000 = 4.386179986539403\n",
      "Loss on iteration 20000 = 3.445323107433115\n",
      "Loss on iteration 30000 = 4.018358502725334\n",
      "Loss on iteration 40000 = 4.052620385122032\n",
      "Loss on iteration 50000 = 5.538295495198417\n",
      "Loss on iteration 60000 = 3.167904352276196\n",
      "Loss on iteration 10000 = 5.580977206355013\n",
      "Loss on iteration 20000 = 5.458013747086074\n",
      "Loss on iteration 30000 = 5.255068465095304\n",
      "Loss on iteration 40000 = 4.557260342003944\n",
      "Loss on iteration 50000 = 4.554163442169192\n",
      "Loss on iteration 60000 = 5.982542247570149\n",
      "Loss on iteration 10000 = 6.881971467501953\n",
      "Loss on iteration 20000 = 3.9254148127631385\n",
      "Loss on iteration 30000 = 6.988027156658808\n",
      "Loss on iteration 40000 = 5.843562838510733\n",
      "Loss on iteration 50000 = 3.185781365388465\n",
      "Loss on iteration 60000 = 6.975415002986537\n",
      "Loss on iteration 10000 = 3.2086105378358187\n",
      "Loss on iteration 20000 = 3.5171618258471824\n",
      "Loss on iteration 30000 = 4.242327595570207\n",
      "Loss on iteration 40000 = 5.307982640728907\n",
      "Loss on iteration 50000 = 5.392360775725961\n",
      "Loss on iteration 60000 = 6.225559138709357\n",
      "Loss on iteration 10000 = 6.675691946087257\n",
      "Loss on iteration 20000 = 4.81831616147128\n",
      "Loss on iteration 30000 = 5.610838218075824\n",
      "Loss on iteration 40000 = 3.0704780330810357\n",
      "Loss on iteration 50000 = 3.8390905948594183\n",
      "Loss on iteration 60000 = 2.773621966600137\n",
      "Loss on iteration 10000 = 4.116195962736208\n",
      "Loss on iteration 20000 = 3.1463250582921996\n",
      "Loss on iteration 30000 = 5.169841809218064\n",
      "Loss on iteration 40000 = 4.285787683360662\n",
      "Loss on iteration 50000 = 5.478431047950096\n",
      "Loss on iteration 60000 = 2.8457465950549117\n",
      "Loss on iteration 10000 = 3.9529257821102366\n",
      "Loss on iteration 20000 = 5.338027773814281\n",
      "Loss on iteration 30000 = 4.7642728938892445\n",
      "Loss on iteration 40000 = 3.930452338243011\n",
      "Loss on iteration 50000 = 4.166768136912881\n",
      "Loss on iteration 60000 = 4.066527899266147\n",
      "Loss on iteration 10000 = 3.183637830526413\n",
      "Loss on iteration 20000 = 2.6503797394775948\n",
      "Loss on iteration 30000 = 4.692840804684348\n",
      "Loss on iteration 40000 = 4.57507276795936\n",
      "Loss on iteration 50000 = 3.8086806316737687\n",
      "Loss on iteration 60000 = 3.0539437412327564\n",
      "Loss on iteration 10000 = 4.802740758144552\n",
      "Loss on iteration 20000 = 4.628361676358526\n",
      "Loss on iteration 30000 = 4.510290739416796\n",
      "Loss on iteration 40000 = 4.4409263109177335\n",
      "Loss on iteration 50000 = 5.497027318233825\n",
      "Loss on iteration 60000 = 3.15653182239528\n",
      "Loss on iteration 10000 = 4.3795417286883795\n",
      "Loss on iteration 20000 = 4.878331187693728\n",
      "Loss on iteration 30000 = 3.2483618065853506\n",
      "Loss on iteration 40000 = 4.7753865358750245\n",
      "Loss on iteration 50000 = 4.899794929565265\n",
      "Loss on iteration 60000 = 4.219379545283359\n",
      "Loss on iteration 10000 = 2.7208516852237534\n",
      "Loss on iteration 20000 = 4.904306792143545\n",
      "Loss on iteration 30000 = 4.888530078582723\n",
      "Loss on iteration 40000 = 3.4723222888729617\n",
      "Loss on iteration 50000 = 3.0761708597087942\n",
      "Loss on iteration 60000 = 4.075595449887073\n",
      "Loss on iteration 10000 = 3.8103783662982806\n",
      "Loss on iteration 20000 = 3.2908589774752524\n",
      "Loss on iteration 30000 = 4.884769030119038\n",
      "Loss on iteration 40000 = 6.0265977704910885\n",
      "Loss on iteration 50000 = 6.509379527993261\n",
      "Loss on iteration 60000 = 5.102777538750951\n",
      "Loss on iteration 10000 = 3.5002944649119065\n",
      "Loss on iteration 20000 = 4.171814464690561\n",
      "Loss on iteration 30000 = 3.9344704810745785\n",
      "Loss on iteration 40000 = 3.4007782829372455\n",
      "Loss on iteration 50000 = 4.527269124220737\n",
      "Loss on iteration 60000 = 2.589730494629871\n",
      "Loss on iteration 10000 = 3.0617287153915314\n",
      "Loss on iteration 20000 = 2.823795461530348\n",
      "Loss on iteration 30000 = 3.8780795334081652\n",
      "Loss on iteration 40000 = 3.7932728302183536\n",
      "Loss on iteration 50000 = 3.8551519188498524\n",
      "Loss on iteration 60000 = 4.5340528213188565\n"
     ]
    },
    {
     "data": {
      "image/png": "[encoded data removed]",
      "text/plain": [
       "<Figure size 640x480 with 1 Axes>"
      ]
     },
     "metadata": {},
     "output_type": "display_data"
    },
    {
     "name": "stdout",
     "output_type": "stream",
     "text": [
      "Accuracy = 0.9605\n"
     ]
    }
   ],
   "source": [
    "# Initialize Neural Network \n",
    "nn = NN(\n",
    "    numNeurons=[784, 200, 100, 10],\n",
    "    alpha=opt_lr,\n",
    "    train_X=full_train_X,\n",
    "    train_Y=full_train_Y,\n",
    "    test_X=full_test_X,\n",
    "    test_Y=full_test_Y\n",
    ")\n",
    "epochs = 15\n",
    "\n",
    "# Train network using optimal learning rate \n",
    "losses = train(\n",
    "        nn=nn, \n",
    "        epochs=epochs, \n",
    "        lr=opt_lr, \n",
    "        train_X=full_train_X, \n",
    "        train_Y=full_train_Y, \n",
    "        valid_X=full_test_X, \n",
    "        valid_Y=full_test_Y\n",
    "    )\n",
    "\n",
    "# Visualize loss during training\n",
    "plot_loss_over_epoch(losses, epochs)\n",
    "\n",
    "# Determine accuracy of the network \n",
    "acc = nn.test()\n"
   ]
  },
  {
   "cell_type": "markdown",
   "metadata": {},
   "source": [
    "### Extension: Training Data Interpolation\n",
    "\n",
    "In this section we'll make the model more accurate by rotating images and zooming them in/out. This will allow the model to account for more variance in human hand writing. Overall, the goal will be to make the model suitable for the [demo site](https://number-guesser-efbea.web.app/), where users can draw digits however they please. "
   ]
  },
  {
   "cell_type": "code",
   "execution_count": 141,
   "metadata": {},
   "outputs": [],
   "source": [
    "\"\"\"\n",
    "First we load datasets without scaling the inputs \n",
    "because we for each input, we will apply a combination \n",
    "of zoom, translate, and/or a rotate operation before \n",
    "scaling. \n",
    "\"\"\"\n",
    "\n",
    "interp_train_X, interp_train_Y = compute_clean_data(\"data/mnist_train.csv\", scale=False)"
   ]
  },
  {
   "cell_type": "code",
   "execution_count": 140,
   "metadata": {},
   "outputs": [],
   "source": [
    "\"\"\"\n",
    "Define operations\n",
    "\"\"\"\n",
    "\n",
    "from scipy import ndimage \n",
    "\n",
    "def rotate_img(orig: np.ndarray) -> np.ndarray:\n",
    "    if np.random.choice([True, False]):\n",
    "        degrees = np.random.randint(-20, -9)\n",
    "    else:\n",
    "        degrees = np.random.randint(10, 21)\n",
    "    return ndimage.rotate(orig.reshape(28, 28), degrees, cval=0.01, reshape=False).reshape(784)\n",
    "\n",
    "\"\"\"\n",
    "credit: https://stackoverflow.com/questions/37119071/scipy-rotate-and-zoom-an-image-without\n",
    "        -changing-its-dimensions\n",
    "\"\"\"\n",
    "def zoom(img: np.ndarray):\n",
    "    zoom_factor = np.random.uniform(0.5, 0.8)\n",
    "\n",
    "    img = img.reshape(28, 28)\n",
    "    h, w = img.shape[:2]\n",
    "    zoom_tuple = (zoom_factor,) * 2 + (1,) * (img.ndim - 2)\n",
    "\n",
    "    # Zooming out\n",
    "    if zoom_factor < 1:\n",
    "        # Bounding box of the zoomed-out image within the output array\n",
    "        zh = int(np.round(h * zoom_factor))\n",
    "        zw = int(np.round(w * zoom_factor))\n",
    "        top = (h - zh) // 2\n",
    "        left = (w - zw) // 2\n",
    "\n",
    "        # Zero-padding\n",
    "        out = np.zeros_like(img)\n",
    "        out[top:top+zh, left:left+zw] = ndimage.zoom(img, zoom_tuple)\n",
    "    \n",
    "    # Zooming in\n",
    "    elif zoom_factor > 1:\n",
    "        # Bounding box of the zoomed-in region within the input array\n",
    "        zh = int(np.round(h / zoom_factor))\n",
    "        zw = int(np.round(w / zoom_factor))\n",
    "        top = (h - zh) // 2\n",
    "        left = (w - zw) // 2\n",
    "\n",
    "        out = ndimage.zoom(img[top:top+zh, left:left+zw], zoom_tuple)\n",
    "\n",
    "        # `out` might still be slightly larger than `img` due to rounding, so\n",
    "        # trim off any extra pixels at the edges\n",
    "        trim_top = ((out.shape[0] - h) // 2)\n",
    "        trim_left = ((out.shape[1] - w) // 2)\n",
    "        out = out[trim_top:trim_top+h, trim_left:trim_left+w]\n",
    "\n",
    "    # If zoom_factor == 1, just return the input array\n",
    "    else:\n",
    "        out = img\n",
    "    return out.reshape(784)\n",
    "\n",
    "def translate(orig: np.ndarray) -> np.ndarray:\n",
    "    shift = np.random.randint(-9, 9, size=2)\n",
    "    return ndimage.shift(orig.reshape(28, 28), shift=shift, cval=0.01).reshape(784)\n",
    "\n",
    "def interpolate(img: np.ndarray) -> np.ndarray:\n",
    "    ops = {\n",
    "        1: rotate_img,\n",
    "        2: zoom,\n",
    "        3: translate,\n",
    "    }\n",
    "    order = [1, 2, 3]\n",
    "    np.random.shuffle(order)\n",
    "    \n",
    "    img = ops[order[0]](img)\n",
    "    img = ops[order[1]](img)\n",
    "    img = ops[order[2]](img)\n",
    "    \n",
    "    return img"
   ]
  },
  {
   "cell_type": "code",
   "execution_count": 143,
   "metadata": {},
   "outputs": [
    {
     "name": "stdout",
     "output_type": "stream",
     "text": [
      "(240000, 784)\n",
      "(240000, 10)\n"
     ]
    }
   ],
   "source": [
    "\"\"\"\n",
    "Generate new training data\n",
    "\"\"\"\n",
    "from util import scale_vector\n",
    "\n",
    "interp_X = []\n",
    "interp_Y = []\n",
    "\n",
    "for i, x in enumerate(interp_train_X):\n",
    "    interp_X.append(scale_vector(x))\n",
    "    interp_Y.append(interp_train_Y[i])\n",
    "    for _ in range(3):\n",
    "        interp_X.append(scale_vector(interpolate(x)))\n",
    "        interp_Y.append(interp_train_Y[i])\n",
    "\n",
    "interp_X = np.asarray(interp_X)\n",
    "interp_Y = np.asarray(interp_Y)\n",
    "\n",
    "print(interp_X.shape)\n",
    "print(interp_Y.shape)\n"
   ]
  },
  {
   "cell_type": "code",
   "execution_count": 155,
   "metadata": {},
   "outputs": [
    {
     "name": "stdout",
     "output_type": "stream",
     "text": [
      "Loss on iteration 40000 = 2.5269001352590656\n",
      "Loss on iteration 80000 = 2.739468642988827\n",
      "Loss on iteration 120000 = 4.014925497567872\n",
      "Loss on iteration 160000 = 2.75149850642057\n",
      "Loss on iteration 200000 = 2.6031689691293582\n",
      "Loss on iteration 240000 = 4.242554033149518\n",
      "Loss on iteration 40000 = 5.583607678538551\n",
      "Loss on iteration 80000 = 2.7199882058566045\n",
      "Loss on iteration 120000 = 2.6358771220697665\n",
      "Loss on iteration 160000 = 2.7649328438303553\n",
      "Loss on iteration 200000 = 2.6628500204931616\n",
      "Loss on iteration 240000 = 2.8666480391096307\n",
      "Loss on iteration 40000 = 2.8674003891213355\n",
      "Loss on iteration 80000 = 2.604179634040496\n",
      "Loss on iteration 120000 = 2.6574164014939554\n",
      "Loss on iteration 160000 = 3.082515751757879\n",
      "Loss on iteration 200000 = 3.104591297060404\n",
      "Loss on iteration 240000 = 2.6898575173454935\n",
      "Loss on iteration 40000 = 9.517269076345404\n",
      "Loss on iteration 80000 = 2.804303191064191\n",
      "Loss on iteration 120000 = 2.920750908079091\n",
      "Loss on iteration 160000 = 3.662241179962632\n",
      "Loss on iteration 200000 = 2.747588871728013\n",
      "Loss on iteration 240000 = 2.752439754685247\n",
      "Loss on iteration 40000 = 3.9036162172469155\n",
      "Loss on iteration 80000 = 5.534382008768659\n",
      "Loss on iteration 120000 = 2.5809508480544867\n",
      "Loss on iteration 160000 = 2.691287612275047\n",
      "Loss on iteration 200000 = 3.033822513089391\n",
      "Loss on iteration 240000 = 3.4342174609876994\n",
      "Loss on iteration 40000 = 3.062605692385393\n",
      "Loss on iteration 80000 = 5.496571537211005\n",
      "Loss on iteration 120000 = 5.5144294220429835\n",
      "Loss on iteration 160000 = 2.695566084533034\n",
      "Loss on iteration 200000 = 4.720509465084872\n",
      "Loss on iteration 240000 = 4.0948764464932195\n",
      "Loss on iteration 40000 = 2.6344309534261203\n",
      "Loss on iteration 80000 = 2.5799857650894764\n",
      "Loss on iteration 120000 = 2.7058176891585575\n",
      "Loss on iteration 160000 = 2.762897189531419\n",
      "Loss on iteration 200000 = 4.182154551598452\n",
      "Loss on iteration 240000 = 2.6881361955946126\n",
      "Loss on iteration 40000 = 2.702345625924859\n",
      "Loss on iteration 80000 = 3.1068274066255976\n",
      "Loss on iteration 120000 = 2.735477658585381\n",
      "Loss on iteration 160000 = 2.575210821449026\n",
      "Loss on iteration 200000 = 2.677704472089978\n",
      "Loss on iteration 240000 = 2.6551369327109438\n",
      "Loss on iteration 40000 = 3.1002209825214178\n",
      "Loss on iteration 80000 = 2.619082884688033\n",
      "Loss on iteration 120000 = 2.8763165472251466\n",
      "Loss on iteration 160000 = 3.1485730220533292\n",
      "Loss on iteration 200000 = 2.989929743641059\n",
      "Loss on iteration 240000 = 2.6235060281560947\n",
      "Loss on iteration 40000 = 3.7832210097945493\n",
      "Loss on iteration 80000 = 2.777874123635832\n",
      "Loss on iteration 120000 = 2.55635478010416\n",
      "Loss on iteration 160000 = 2.6360298045656076\n",
      "Loss on iteration 200000 = 2.6373427536724265\n",
      "Loss on iteration 240000 = 2.6179839086038044\n"
     ]
    }
   ],
   "source": [
    "\"\"\"\n",
    "Train with new dataset \n",
    "\"\"\"\n",
    "\n",
    "# Initialize Neural Network \n",
    "nn = NN(\n",
    "    numNeurons=[784, 200, 100, 10],\n",
    "    alpha=0.0075,\n",
    "    train_X=interp_X,\n",
    "    train_Y=interp_Y,\n",
    "    test_X=full_test_X,\n",
    "    test_Y=full_test_Y\n",
    ")\n",
    "\n",
    "# lower number of epochs as training dataset is 4 times bigger \n",
    "epochs = 10 \n",
    "\n",
    "# Train network using optimal learning rate \n",
    "losses = train(\n",
    "        nn=nn, \n",
    "        epochs=epochs, \n",
    "        lr=0.0075, \n",
    "        train_X=interp_X, \n",
    "        train_Y=interp_Y, \n",
    "        valid_X=full_test_X, \n",
    "        valid_Y=full_test_Y\n",
    "    )"
   ]
  },
  {
   "cell_type": "code",
   "execution_count": 156,
   "metadata": {},
   "outputs": [
    {
     "data": {
      "image/png": "[encoded data removed]",
      "text/plain": [
       "<Figure size 640x480 with 1 Axes>"
      ]
     },
     "metadata": {},
     "output_type": "display_data"
    },
    {
     "name": "stdout",
     "output_type": "stream",
     "text": [
      "Accuracy = 0.7638\n"
     ]
    }
   ],
   "source": [
    "# Visualize loss during training\n",
    "plot_loss_over_epoch(losses, epochs)\n",
    "\n",
    "# Determine accuracy of the network \n",
    "acc = nn.test()"
   ]
  },
  {
   "cell_type": "code",
   "execution_count": 158,
   "metadata": {},
   "outputs": [],
   "source": [
    "\"\"\"\n",
    "Export weights\n",
    "\"\"\"\n",
    "\n",
    "import json\n",
    "\n",
    "interp_weights = {\n",
    "    'h1': nn.hiddenLayer1.weights.tolist(),\n",
    "    'h2': nn.hiddenLayer2.weights.tolist(),\n",
    "    'o': nn.outputLayer.weights.tolist(),\n",
    "}\n",
    "\n",
    "interp_bias = {\n",
    "    'h1': nn.hiddenLayer1.bias.tolist(),\n",
    "    'h2': nn.hiddenLayer2.bias.tolist(),\n",
    "    'o': nn.outputLayer.bias.tolist()\n",
    "}\n",
    "\n",
    "with open('interp_model_weights.json', 'w') as f:\n",
    "    json.dump(interp_weights, f)\n",
    "with open('interp_model_bias.json', 'w') as f:\n",
    "    json.dump(interp_bias, f)"
   ]
  }
 ],
 "metadata": {
  "kernelspec": {
   "display_name": "Python 3",
   "language": "python",
   "name": "python3"
  },
  "language_info": {
   "codemirror_mode": {
    "name": "ipython",
    "version": 3
   },
   "file_extension": ".py",
   "mimetype": "text/x-python",
   "name": "python",
   "nbconvert_exporter": "python",
   "pygments_lexer": "ipython3",
   "version": "3.9.0"
  }
 },
 "nbformat": 4,
 "nbformat_minor": 2
}
